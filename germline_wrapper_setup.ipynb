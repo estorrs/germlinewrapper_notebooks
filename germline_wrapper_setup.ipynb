{
 "cells": [
  {
   "cell_type": "code",
   "execution_count": 3,
   "metadata": {},
   "outputs": [],
   "source": [
    "import os\n",
    "import re\n",
    "import subprocess\n",
    "\n",
    "import mgitools.bsub as bsub\n",
    "import mgitools.os_helpers as os_helpers"
   ]
  },
  {
   "cell_type": "code",
   "execution_count": 1,
   "metadata": {},
   "outputs": [],
   "source": [
    "BAM_MAP_LOCATION = '/gscuser/estorrs/CPTAC3.catalog/MGI.BamMap.dat'\n",
    "# BAM_MAP_LOCATION = '/gscuser/estorrs/gbm.bobo.bammap.dat'\n",
    "EXECUTION_DIR = '/gscmnt/gc2508/dinglab/estorrs/cptac3/germline_calling_execution/gbm/test/execution'\n",
    "LOG_DIR = '/gscmnt/gc2508/dinglab/estorrs/cptac3/germline_calling_execution/gbm/test/indexing'\n",
    "\n",
    "\n",
    "\n",
    "\n"
   ]
  },
  {
   "cell_type": "markdown",
   "metadata": {},
   "source": [
    "## heirarchy and symlinking"
   ]
  },
  {
   "cell_type": "code",
   "execution_count": 4,
   "metadata": {},
   "outputs": [
    {
     "data": {
      "text/plain": [
       "(120,\n",
       " [('C3L-00016.N',\n",
       "   {'technology': 'WXS',\n",
       "    'fp': '/gscmnt/gc2741/ding/CPTAC3-data/GDC_import/data/fb7e7564-2179-4c8c-8a4c-ed50a4205a4b/65158bcf-b42e-4e35-aa37-aad195b41e03_gdc_realn.bam'}),\n",
       "  ('C3L-00016.T',\n",
       "   {'technology': 'WXS',\n",
       "    'fp': '/gscmnt/gc2741/ding/CPTAC3-data/GDC_import/data/89be0404-faf9-42f7-8e21-9ad3416a1694/0eb51bef-799b-4c17-89dc-b5e15f13d7bc_gdc_realn.bam'}),\n",
       "  ('C3L-00019.N',\n",
       "   {'technology': 'WXS',\n",
       "    'fp': '/gscmnt/gc2741/ding/CPTAC3-data/GDC_import/data/60d54f61-0d56-45f9-b6a7-93e6c66af8c0/383c9539-9c57-47c4-90f3-c0453068ff6f_gdc_realn.bam'}),\n",
       "  ('C3L-00019.T',\n",
       "   {'technology': 'WXS',\n",
       "    'fp': '/gscmnt/gc2741/ding/CPTAC3-data/GDC_import/data/a2b737a0-4c3a-4b5c-808b-21078d18fb8c/8cb0498b-f2ca-40d3-9850-0354f0c53f1e_gdc_realn.bam'}),\n",
       "  ('C3L-00104.N',\n",
       "   {'technology': 'WXS',\n",
       "    'fp': '/gscmnt/gc2741/ding/CPTAC3-data/GDC_import/data/cd8ff448-91ea-44b2-9293-0c89f3b6c7a3/27b12d40-946d-4fc4-b336-b0edd9bcaa3c_wxs_gdc_realn.bam'})])"
      ]
     },
     "execution_count": 4,
     "metadata": {},
     "output_type": "execute_result"
    }
   ],
   "source": [
    "f = open(BAM_MAP_LOCATION)\n",
    "sample_data = {}\n",
    "\n",
    "\n",
    "identifiers = [r'WXS', 'hg38', 'BAM', r'blood_normal|tumor', 'GBM']\n",
    "# identifiers = ['blood_normal']\n",
    "\n",
    "\n",
    "# filter based on identifiers and get sample name and location\n",
    "for line in f:\n",
    "    is_valid = True\n",
    "    for identifier in identifiers:\n",
    "        if not re.findall(identifier, line):\n",
    "            is_valid = False\n",
    "            break\n",
    "\n",
    "    if is_valid:\n",
    "        pieces = line.strip().split('\\t')\n",
    "\n",
    "        sample = pieces[1]\n",
    "        technology = pieces[3]\n",
    "        sample_type = pieces[4]\n",
    "        fp = pieces[5]\n",
    "        \n",
    "        if sample_type == 'blood_normal':\n",
    "            sample = sample + '.N'\n",
    "        else:\n",
    "            sample = sample + '.T'\n",
    "        \n",
    "        if sample in sample_data:\n",
    "            sample_data[sample]\n",
    "        \n",
    "        if sample in sample_data:\n",
    "            d = sample_data[sample]\n",
    "            if d['technology'].lower() != 'wxs' and technology.lower() == 'wxs':\n",
    "                sample_data[sample] = {'technology': technology, 'fp': fp}\n",
    "        else:\n",
    "            sample_data[sample] = {'technology': technology, 'fp': fp}\n",
    "\n",
    "len(sample_data), list(sample_data.items())[:5]"
   ]
  },
  {
   "cell_type": "code",
   "execution_count": 5,
   "metadata": {},
   "outputs": [
    {
     "data": {
      "text/plain": [
       "(60,\n",
       " [('C3L-00016',\n",
       "   {'normal': '/gscmnt/gc2741/ding/CPTAC3-data/GDC_import/data/fb7e7564-2179-4c8c-8a4c-ed50a4205a4b/65158bcf-b42e-4e35-aa37-aad195b41e03_gdc_realn.bam',\n",
       "    'tumor': '/gscmnt/gc2741/ding/CPTAC3-data/GDC_import/data/89be0404-faf9-42f7-8e21-9ad3416a1694/0eb51bef-799b-4c17-89dc-b5e15f13d7bc_gdc_realn.bam'}),\n",
       "  ('C3L-00019',\n",
       "   {'normal': '/gscmnt/gc2741/ding/CPTAC3-data/GDC_import/data/60d54f61-0d56-45f9-b6a7-93e6c66af8c0/383c9539-9c57-47c4-90f3-c0453068ff6f_gdc_realn.bam',\n",
       "    'tumor': '/gscmnt/gc2741/ding/CPTAC3-data/GDC_import/data/a2b737a0-4c3a-4b5c-808b-21078d18fb8c/8cb0498b-f2ca-40d3-9850-0354f0c53f1e_gdc_realn.bam'}),\n",
       "  ('C3L-00104',\n",
       "   {'normal': '/gscmnt/gc2741/ding/CPTAC3-data/GDC_import/data/cd8ff448-91ea-44b2-9293-0c89f3b6c7a3/27b12d40-946d-4fc4-b336-b0edd9bcaa3c_wxs_gdc_realn.bam',\n",
       "    'tumor': '/gscmnt/gc2741/ding/CPTAC3-data/GDC_import/data/fc6acfc5-97f2-405f-9fb7-7f1b6c1dce00/d36cf415-f716-4e50-a949-a06459cd5277_wxs_gdc_realn.bam'}),\n",
       "  ('C3L-00265',\n",
       "   {'normal': '/gscmnt/gc2741/ding/CPTAC3-data/GDC_import/data/44ee4bea-4f5b-4e67-87d9-ad717cc5b72d/6a73f3b9-56b8-4007-ad6f-7dbc00f85a4c_gdc_realn.bam',\n",
       "    'tumor': '/gscmnt/gc2741/ding/CPTAC3-data/GDC_import/data/2df40997-ebe8-45cc-a937-838b002bf86a/19a44d3b-775c-44db-aaf0-f16fe219c7b9_gdc_realn.bam'}),\n",
       "  ('C3L-00278',\n",
       "   {'normal': '/gscmnt/gc2741/ding/CPTAC3-data/GDC_import/data/796ed8c7-f6ca-4c4f-9723-09e656a1f0a1/d4bac28e-6b0d-4f9b-8bb6-9785ccd8d8ec_gdc_realn.bam',\n",
       "    'tumor': '/gscmnt/gc2741/ding/CPTAC3-data/GDC_import/data/8e9a3635-2e1f-4fb7-bde5-20edff56b6c6/a2c60332-44c4-4103-9333-c22d7ae59578_gdc_realn.bam'})])"
      ]
     },
     "execution_count": 5,
     "metadata": {},
     "output_type": "execute_result"
    }
   ],
   "source": [
    "sample_to_fps = {}\n",
    "for sample, d in sample_data.items():\n",
    "    s_id = sample[:-2]\n",
    "    \n",
    "    if s_id not in sample_to_fps:\n",
    "        sample_to_fps[s_id] = {}\n",
    "    \n",
    "    if sample[-1] == 'N':\n",
    "        sample_to_fps[s_id]['normal'] = d['fp']\n",
    "    else:\n",
    "        sample_to_fps[s_id]['tumor'] = d['fp']\n",
    "len(sample_to_fps), list(sample_to_fps.items())[:5]"
   ]
  },
  {
   "cell_type": "code",
   "execution_count": 6,
   "metadata": {},
   "outputs": [],
   "source": [
    "for sample, d in sample_to_fps.items():\n",
    "    # make directory for sample\n",
    "    os.mkdir(os.path.join(EXECUTION_DIR, sample))\n",
    "    \n",
    "    # link files in directory\n",
    "    for k, fp in d.items():\n",
    "        if k == 'normal':\n",
    "            tool_args = ('ln', '-s', fp, os.path.join(EXECUTION_DIR, sample, f'{sample}.N.bam'))\n",
    "        else:\n",
    "            tool_args = ('ln', '-s', fp, os.path.join(EXECUTION_DIR, sample, f'{sample}.T.bam'))\n",
    "            \n",
    "        subprocess.check_output(tool_args)"
   ]
  },
  {
   "cell_type": "markdown",
   "metadata": {},
   "source": [
    "## indexing"
   ]
  },
  {
   "cell_type": "code",
   "execution_count": 18,
   "metadata": {},
   "outputs": [
    {
     "data": {
      "text/plain": [
       "(154,\n",
       " [('C3N-01997.N',\n",
       "   '/gscmnt/gc2508/dinglab/estorrs/cptac3/germline_calling_execution/pdac/hg38/execution/C3N-01997/C3N-01997.N.bam'),\n",
       "  ('C3N-01997.T',\n",
       "   '/gscmnt/gc2508/dinglab/estorrs/cptac3/germline_calling_execution/pdac/hg38/execution/C3N-01997/C3N-01997.T.bam'),\n",
       "  ('C3N-00514.T',\n",
       "   '/gscmnt/gc2508/dinglab/estorrs/cptac3/germline_calling_execution/pdac/hg38/execution/C3N-00514/C3N-00514.T.bam'),\n",
       "  ('C3N-00514.N',\n",
       "   '/gscmnt/gc2508/dinglab/estorrs/cptac3/germline_calling_execution/pdac/hg38/execution/C3N-00514/C3N-00514.N.bam'),\n",
       "  ('C3N-01169.N',\n",
       "   '/gscmnt/gc2508/dinglab/estorrs/cptac3/germline_calling_execution/pdac/hg38/execution/C3N-01169/C3N-01169.N.bam')])"
      ]
     },
     "execution_count": 18,
     "metadata": {},
     "output_type": "execute_result"
    }
   ],
   "source": [
    "regex = r'.bam$'\n",
    "    \n",
    "fps = list(os_helpers.listfiles(EXECUTION_DIR,\n",
    "                regex=regex))\n",
    "\n",
    "sample_fps_tups = [(fp.split('/')[-1].replace('.bam', ''), fp) for fp in fps]\n",
    "\n",
    "len(sample_fps_tups), sample_fps_tups[:5]"
   ]
  },
  {
   "cell_type": "code",
   "execution_count": 19,
   "metadata": {},
   "outputs": [],
   "source": [
    "image = 'estorrs/slate:0.0.2'\n",
    "\n",
    "# os.mkdir(LOG_DIR)\n",
    "\n",
    "commands, log_files = [], []\n",
    "for s_id, fp in sample_fps_tups:\n",
    "\n",
    "    command = f'samtools index {fp}'\n",
    "    log_fp = os.path.join(LOG_DIR, s_id + '.log')\n",
    "\n",
    "    commands.append(command)\n",
    "    log_files.append(log_fp)\n",
    "        \n",
    "bsub.generate_bsub_bash_script(commands, image, os.path.join(LOG_DIR, 'commands.sh'),\n",
    "                              min_memory=4, max_memory=5, log_files=log_files)"
   ]
  },
  {
   "cell_type": "markdown",
   "metadata": {},
   "source": [
    "## writing executables"
   ]
  },
  {
   "cell_type": "code",
   "execution_count": null,
   "metadata": {},
   "outputs": [],
   "source": []
  }
 ],
 "metadata": {
  "kernelspec": {
   "display_name": "Python 3",
   "language": "python",
   "name": "python3"
  },
  "language_info": {
   "codemirror_mode": {
    "name": "ipython",
    "version": 3
   },
   "file_extension": ".py",
   "mimetype": "text/x-python",
   "name": "python",
   "nbconvert_exporter": "python",
   "pygments_lexer": "ipython3",
   "version": "3.7.3"
  }
 },
 "nbformat": 4,
 "nbformat_minor": 2
}
